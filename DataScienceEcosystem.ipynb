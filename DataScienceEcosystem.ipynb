{
 "cells": [
  {
   "cell_type": "markdown",
   "id": "f634b711-3de8-4bf7-ab83-862a077c1af0",
   "metadata": {},
   "source": [
    "#Data Science Tools and Ecosystem"
   ]
  },
  {
   "cell_type": "markdown",
   "id": "eec58f84-2419-4ef7-befe-735fa65fcd38",
   "metadata": {},
   "source": [
    "In this notebook, Data Science Tools and Ecosystem are summarized."
   ]
  },
  {
   "cell_type": "markdown",
   "id": "224699d4-f2e1-4e37-ba67-bac4e47fb378",
   "metadata": {},
   "source": [
    "Some of the popular languages that Data Scientists use are:\n",
    "1. R Studio\n",
    "2. Python\n",
    "3. Javascript"
   ]
  },
  {
   "cell_type": "markdown",
   "id": "120e0ab5-0984-4002-b734-651fa67e9030",
   "metadata": {},
   "source": [
    "Some of the commonly used libraries used by Data Scientists include:\n",
    "1. Tensorflow\n",
    "2. ggplot\n",
    "3. matplotlib\n",
    "4. Pandas\n",
    "    "
   ]
  },
  {
   "cell_type": "code",
   "execution_count": 2,
   "id": "3c82b88d-e24e-4fe8-becf-716015702a9e",
   "metadata": {
    "tags": []
   },
   "outputs": [
    {
     "name": "stdout",
     "output_type": "stream",
     "text": [
      "Collecting tabulate\n",
      "  Downloading tabulate-0.9.0-py3-none-any.whl (35 kB)\n",
      "Installing collected packages: tabulate\n",
      "Successfully installed tabulate-0.9.0\n",
      "Note: you may need to restart the kernel to use updated packages.\n"
     ]
    }
   ],
   "source": [
    "pip install tabulate"
   ]
  },
  {
   "cell_type": "code",
   "execution_count": 3,
   "id": "2751062b-1081-450f-869b-01d0eb6bcd25",
   "metadata": {
    "tags": []
   },
   "outputs": [
    {
     "name": "stdout",
     "output_type": "stream",
     "text": [
      "+----------------------+\n",
      "| Data Science Tools   |\n",
      "+======================+\n",
      "| R Studio             |\n",
      "+----------------------+\n",
      "| Apache Spark         |\n",
      "+----------------------+\n",
      "| Apache Hadoop        |\n",
      "+----------------------+\n"
     ]
    }
   ],
   "source": [
    "# import module\n",
    "from tabulate import tabulate\n",
    " \n",
    "# assign data\n",
    "mydata = [\n",
    "    [\"R Studio\"],\n",
    "    [\"Apache Spark\"],\n",
    "    [\"Apache Hadoop\"],\n",
    "]\n",
    " \n",
    "# create header\n",
    "head = [\"Data Science Tools\"]\n",
    " \n",
    "# display table\n",
    "print(tabulate(mydata, headers=head, tablefmt=\"grid\"))"
   ]
  },
  {
   "cell_type": "markdown",
   "id": "e0c1a587-7f6b-4309-9062-91beefb2d891",
   "metadata": {},
   "source": [
    "###Below are a few examples of evaluating arithmetic expressions in Python"
   ]
  },
  {
   "cell_type": "markdown",
   "id": "5fb23a77-632f-44a2-8f97-fc9d211d2b54",
   "metadata": {},
   "source": [
    "Below are a few examples of evaluating arithmetic expressions in Python"
   ]
  },
  {
   "cell_type": "code",
   "execution_count": 4,
   "id": "7aa50de4-f70f-40e0-8b88-08727f4b718e",
   "metadata": {
    "tags": []
   },
   "outputs": [
    {
     "data": {
      "text/plain": [
       "17"
      ]
     },
     "execution_count": 4,
     "metadata": {},
     "output_type": "execute_result"
    }
   ],
   "source": [
    "#This a simple arithmetic expression to mutiply then add integers\n",
    "(3*4)+5"
   ]
  },
  {
   "cell_type": "code",
   "execution_count": 5,
   "id": "54fd140f-4271-4099-aafe-f657481c1a50",
   "metadata": {
    "tags": []
   },
   "outputs": [
    {
     "name": "stdout",
     "output_type": "stream",
     "text": [
      "x/60\n"
     ]
    }
   ],
   "source": [
    "#This will convert 200 minutes to hours by diving by 60\n",
    "x = 200\n",
    "print(\"x/60\")"
   ]
  },
  {
   "cell_type": "code",
   "execution_count": 6,
   "id": "70ac4b70-3805-43fc-8c69-68a36689cd88",
   "metadata": {
    "tags": []
   },
   "outputs": [
    {
     "name": "stdout",
     "output_type": "stream",
     "text": [
      "3.3333333333333335\n"
     ]
    }
   ],
   "source": [
    "#This will convert 200 minutes to hours by diving by 60\n",
    "x = 200\n",
    "print(x/60)"
   ]
  },
  {
   "cell_type": "markdown",
   "id": "8fa5fe4c-3ebb-4264-90fc-d4b2aebffe80",
   "metadata": {},
   "source": [
    " **Objectives:**"
   ]
  },
  {
   "cell_type": "markdown",
   "id": "b9d43a4a-26a2-43af-b943-6f4401c5213f",
   "metadata": {},
   "source": [
    " - List popular languages for Data Science\n",
    " - Open source vs free software\n",
    " - Python basics"
   ]
  },
  {
   "cell_type": "markdown",
   "id": "91958280-3965-413d-b209-9ddcc4ec26e8",
   "metadata": {},
   "source": [
    "##Author\n"
   ]
  },
  {
   "cell_type": "markdown",
   "id": "8210fe3b-b85d-42da-a4f5-4da416eb15cf",
   "metadata": {
    "tags": []
   },
   "source": [
    "Surbhi Suman\n"
   ]
  },
  {
   "cell_type": "code",
   "execution_count": null,
   "id": "184e18ac-5768-41c1-a643-9e285c81226e",
   "metadata": {},
   "outputs": [],
   "source": []
  }
 ],
 "metadata": {
  "kernelspec": {
   "display_name": "Python",
   "language": "python",
   "name": "conda-env-python-py"
  },
  "language_info": {
   "codemirror_mode": {
    "name": "ipython",
    "version": 3
   },
   "file_extension": ".py",
   "mimetype": "text/x-python",
   "name": "python",
   "nbconvert_exporter": "python",
   "pygments_lexer": "ipython3",
   "version": "3.7.12"
  }
 },
 "nbformat": 4,
 "nbformat_minor": 5
}
